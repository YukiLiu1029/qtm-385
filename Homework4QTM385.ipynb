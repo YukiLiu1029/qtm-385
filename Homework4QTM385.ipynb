{
 "cells": [
  {
   "cell_type": "markdown",
   "metadata": {},
   "source": [
    "# QTM 385\n",
    "\n",
    "***\n",
    "\n",
    "## Homework 4\n",
    "\n",
    "Student: [Yuki Liu 2348196]"
   ]
  },
  {
   "cell_type": "markdown",
   "metadata": {},
   "source": [
    "In this homework, we will create an object called Student, that is useful for a professor to store information about a student."
   ]
  },
  {
   "cell_type": "markdown",
   "metadata": {},
   "source": [
    "\n",
    "***\n",
    "\n",
    "### Question 1\n",
    "\n",
    "Create a class Student, that has:\n",
    "\n",
    "0. Id number (5-digits integer, starting with 1)\n",
    "1. First Name (str)\n",
    "2. Last Name (str)\n",
    "3. Grades (list of floats)\n",
    "4. Credits (list of integers)\n",
    "5. Major (str)\n",
    "\n",
    "Provide a constructor for your class and create one fictitious student."
   ]
  },
  {
   "cell_type": "code",
   "execution_count": 79,
   "metadata": {},
   "outputs": [],
   "source": [
    "# Your answer here\n",
    "class Student:\n",
    "    def __init__(self,Id,fn,ln,grades,credits,major):\n",
    "        self.first_name=fn\n",
    "        self.ID=Id\n",
    "        self.last_name=ln\n",
    "        self.grades=grades\n",
    "        self.credits=credits\n",
    "        self.major=major\n",
    "  \n",
    "stu = Student(12345,\"Yuki\",\"Liu\",[3.7,4.0,4.0],[3,3,4],\"Math\")"
   ]
  },
  {
   "cell_type": "markdown",
   "metadata": {},
   "source": [
    "\n",
    "***\n",
    "\n",
    "### Question 2\n",
    "\n",
    "Create a method to nicely display the student when we type `print`. It should display, for example:\n",
    "\n",
    "```\n",
    "Student:\n",
    "    Id: 12345\n",
    "    Name: Mig, Umberto\n",
    "    Major: QSS\n",
    "```\n",
    "\n",
    "Create a method that, when a variable storing a student is typed in the console, displays:\n",
    "\n",
    "```\n",
    "Student(Mig, Umberto; 12345)\n",
    "```\n",
    "\n",
    "Provide some testing with a fictitious result of your choice."
   ]
  },
  {
   "cell_type": "code",
   "execution_count": 70,
   "metadata": {},
   "outputs": [
    {
     "name": "stdout",
     "output_type": "stream",
     "text": [
      "\n",
      "        \n",
      "Student:\n",
      "    Id: 12345\n",
      "    Name: Yuki, Liu\n",
      "    Major: Math\n",
      "    \n"
     ]
    },
    {
     "data": {
      "text/plain": [
       "Student(Yuki, Liu; 12345)"
      ]
     },
     "execution_count": 70,
     "metadata": {},
     "output_type": "execute_result"
    }
   ],
   "source": [
    "# Your answer here\n",
    "class Student:\n",
    "    def __init__(self,Id,fn,ln,grades,credits,major):\n",
    "        self.first_name=fn\n",
    "        self.ID=Id\n",
    "        self.last_name=ln\n",
    "        self.grades=grades\n",
    "        self.credits=credits\n",
    "        self.major=major\n",
    "    def __str__(self):\n",
    "        student_info = \"\"\"\n",
    "        \n",
    "Student:\n",
    "    Id: {Id}\n",
    "    Name: {fn}, {ln}\n",
    "    Major: {major}\n",
    "    \"\"\".format(Id = str(self.ID),ln = self.last_name,fn=self.first_name,major=self.major)\n",
    "        return student_info\n",
    "    def __repr__(self):\n",
    "        return \"Student({fn}, {ln}; {Id})\".format(ln = self.last_name, fn = self.first_name, Id = self.ID)\n",
    "    \n",
    "stu = Student(12345,\"Yuki\",\"Liu\",[3.7,4.0,4.0],[3,3,4],\"Math\")\n",
    "print(stu)\n",
    "\n",
    "stu"
   ]
  },
  {
   "cell_type": "markdown",
   "metadata": {},
   "source": [
    "\n",
    "***\n",
    "\n",
    "### Question 3\n",
    "\n",
    "Implement class methods for:\n",
    "\n",
    "1. Check if the id number is valid (remember: 5 digits, starting with number one)\n",
    "2. Check if the grades list has the same length as the credits list. The idea is that every grade corresponds to a course that gave the student a certain amount of credits.\n",
    "3. Append grade and credit: given a grade, and credits attached to the grade, append both to each respective place.\n",
    "\n",
    "Test your function with a toy student of your choice."
   ]
  },
  {
   "cell_type": "code",
   "execution_count": 77,
   "metadata": {},
   "outputs": [
    {
     "name": "stdout",
     "output_type": "stream",
     "text": [
      "True\n",
      "True\n",
      "[3.7, 4.0, 4.0, 3, 3, 4]\n"
     ]
    }
   ],
   "source": [
    "# Your answer here\n",
    "class Student:\n",
    "    def __init__(self,Id,fn,ln,grades,credits,major):\n",
    "        self.first_name=fn\n",
    "        self.ID=Id\n",
    "        self.last_name=ln\n",
    "        self.grades=grades\n",
    "        self.credits=credits\n",
    "        self.major=major\n",
    "    def __str__(self):\n",
    "        student_info = \"\"\"\n",
    "        \n",
    "Student:\n",
    "    Id: {Id}\n",
    "    Name: {fn}, {ln}\n",
    "    Major: {major}\n",
    "    \"\"\".format(Id = str(self.ID),ln = self.last_name,fn=self.first_name,major=self.major)\n",
    "        \n",
    "    def __repr__(self):\n",
    "        return \"Student({fn}, {ln}; {Id})\".format(ln = self.last_name, fn = self.first_name, Id = self.ID)\n",
    "    def validid(self):\n",
    "        Id = self.ID\n",
    "        for i in range(4):\n",
    "            Id = int(Id/10)\n",
    "        return (Id == 1)\n",
    "    def validlist(self):\n",
    "        return (len(self.grades)==len(self.credits))\n",
    "    def appendgrade(self):\n",
    "        grades = self.grades\n",
    "        credits = self.credits\n",
    "        for i in range(len(self.credits)):\n",
    "            gradesappend = grades.append(credits[i])\n",
    "        return grades\n",
    "    \n",
    "stu = Student(12345,\"Yuki\",\"Liu\",[3.7,4.0,4.0],[3,3,4],\"Math\")\n",
    "\n",
    "print(stu.validid())\n",
    "print(stu.validlist())\n",
    "print(stu.appendgrade())"
   ]
  },
  {
   "cell_type": "markdown",
   "metadata": {},
   "source": [
    "\n",
    "***\n",
    "\n",
    "### Question 4\n",
    "\n",
    "Create a module in the class Student that computes the unweighted average of the student's grades."
   ]
  },
  {
   "cell_type": "code",
   "execution_count": 78,
   "metadata": {},
   "outputs": [
    {
     "data": {
      "text/plain": [
       "3.9"
      ]
     },
     "execution_count": 78,
     "metadata": {},
     "output_type": "execute_result"
    }
   ],
   "source": [
    "# Your answer here\n",
    "class Student:\n",
    "    def __init__(self,Id,fn,ln,grades,credits,major):\n",
    "        self.first_name=fn\n",
    "        self.ID=Id\n",
    "        self.last_name=ln\n",
    "        self.grades=grades\n",
    "        self.credits=credits\n",
    "        self.major=major\n",
    "    def __str__(self):\n",
    "        student_info = \"\"\"\n",
    "        \n",
    "Student:\n",
    "    Id: {Id}\n",
    "    Name: {fn}, {ln}\n",
    "    Major: {major}\n",
    "    \"\"\".format(Id = str(self.ID),ln = self.last_name,fn=self.first_name,major=self.major)\n",
    "    def unweightedavg(self):\n",
    "        avg = 0\n",
    "        for i in range(len(self.grades)):\n",
    "            avg += (self.grades)[i]\n",
    "        return avg/len(self.grades)\n",
    "    \n",
    "stu = Student(23456,\"Yuki\",\"Liu\",[3.7,4.0,4.0],[3,3,4],\"Math\")\n",
    "stu.unweightedavg()"
   ]
  },
  {
   "cell_type": "markdown",
   "metadata": {},
   "source": [
    "\n",
    "***\n",
    "\n",
    "### Question 5\n",
    "\n",
    "Create a module in the class Student that computes the weighted average of the student's grades, weighted by the credits."
   ]
  },
  {
   "cell_type": "code",
   "execution_count": 76,
   "metadata": {},
   "outputs": [
    {
     "data": {
      "text/plain": [
       "3.91"
      ]
     },
     "execution_count": 76,
     "metadata": {},
     "output_type": "execute_result"
    }
   ],
   "source": [
    "# Your answer here\n",
    "class Student:\n",
    "    def __init__(self,Id,fn,ln,grades,credits,major):\n",
    "        self.first_name=fn\n",
    "        self.ID=Id\n",
    "        self.last_name=ln\n",
    "        self.grades=grades\n",
    "        self.credits=credits\n",
    "        self.major=major\n",
    "    def __str__(self):\n",
    "        student_info = \"\"\"\n",
    "        \n",
    "Student:\n",
    "    Id: {Id}\n",
    "    Name: {fn}, {ln}\n",
    "    Major: {major}\n",
    "    \"\"\".format(Id = str(self.ID),ln = self.last_name,fn=self.first_name,major=self.major)\n",
    "    def weightedavg(self):\n",
    "        avg=0\n",
    "        credit=0\n",
    "        for i in self.credits:\n",
    "            credit += i\n",
    "        for j in range(len(self.grades)):\n",
    "            avg += self.grades[j]*(self.credits[j]/credit)\n",
    "        return avg\n",
    "    \n",
    "stu = Student(23456,\"Yuki\",\"Liu\",[3.7,4.0,4.0],[3,3,4],\"Math\")\n",
    "stu.weightedavg() "
   ]
  },
  {
   "cell_type": "markdown",
   "metadata": {},
   "source": [
    "**That's all, folks!**"
   ]
  }
 ],
 "metadata": {
  "kernelspec": {
   "display_name": "Python 3",
   "language": "python",
   "name": "python3"
  },
  "language_info": {
   "codemirror_mode": {
    "name": "ipython",
    "version": 3
   },
   "file_extension": ".py",
   "mimetype": "text/x-python",
   "name": "python",
   "nbconvert_exporter": "python",
   "pygments_lexer": "ipython3",
   "version": "3.8.8"
  }
 },
 "nbformat": 4,
 "nbformat_minor": 4
}
